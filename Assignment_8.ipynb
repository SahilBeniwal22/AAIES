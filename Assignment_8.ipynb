{
  "nbformat": 4,
  "nbformat_minor": 0,
  "metadata": {
    "colab": {
      "provenance": [],
      "authorship_tag": "ABX9TyPgXMNPWmkGm4tS4vbgIMlu",
      "include_colab_link": true
    },
    "kernelspec": {
      "name": "python3",
      "display_name": "Python 3"
    },
    "language_info": {
      "name": "python"
    }
  },
  "cells": [
    {
      "cell_type": "markdown",
      "metadata": {
        "id": "view-in-github",
        "colab_type": "text"
      },
      "source": [
        "<a href=\"https://colab.research.google.com/github/SahilBeniwal22/AAIES/blob/main/Assignment_8.ipynb\" target=\"_parent\"><img src=\"https://colab.research.google.com/assets/colab-badge.svg\" alt=\"Open In Colab\"/></a>"
      ]
    },
    {
      "cell_type": "code",
      "execution_count": null,
      "metadata": {
        "id": "JQ7PtLDsOQs_"
      },
      "outputs": [],
      "source": [
        "### To plot a networkx graph in pyvis\n",
        "import networkx as nx\n",
        "from pyvis.network import Network\n",
        "# Step 1: Create a graph representation of delivery routes\n",
        "def create_delivery_graph(data):\n",
        "    # TODO: Implement this function to create a graph from the given delivery data using NetworkX\n",
        "    G = nx.Graph()\n",
        "\n",
        "    for delivery_id, start_point, end_point, distance in data:\n",
        "        G.add_edge(start_point, end_point, distance=distance)\n",
        "\n",
        "    return G\n",
        "# Step 2: Visualize the graph using Pyvis\n",
        "def visualize_graph(G, shortest_path=None):\n",
        "    nt = Network(notebook=True)\n",
        "\n",
        "    for node in G.nodes():\n",
        "        nt.add_node(node)\n",
        "\n",
        "    for edge in G.edges(data=True):\n",
        "        if shortest_path and edge[0] in shortest_path and edge[1] in shortest_path:\n",
        "            nt.add_edge(edge[0], edge[1], value=edge[2]['distance'], label=str(edge[2]['distance']))  # Add distance as a label\n",
        "        else:\n",
        "            nt.add_edge(edge[0], edge[1], value=edge[2]['distance'])\n",
        "\n",
        "    nt.show('delivery_graph.html')\n",
        "# Step 3: Implement A* heuristic search algorithm\n",
        "def search(graph, start, end):\n",
        "    # TODO: Implement the A* heuristic search algorithm to find the shortest path\n",
        "    if start not in graph.nodes() or end not in graph.nodes():\n",
        "        return None, None\n",
        "\n",
        "    shortest_path = nx.astar_path(graph, start, end, heuristic=None, weight='distance')\n",
        "    shortest_distance = nx.astar_path_length(graph, start, end, heuristic=None, weight='distance')\n",
        "\n",
        "    return shortest_path, shortest_distance\n",
        "    pass\n",
        "if __name__ == \"__main__\":\n",
        "    # Sample dataset\n",
        "    delivery_data = [\n",
        "        (1, 'Warehouse', 'Point A', 10),\n",
        "        (2, 'Point A', 'Point B', 5),\n",
        "        (3, 'Point A', 'Point C', 8),\n",
        "        (4, 'Point B', 'Point C', 7),\n",
        "        (5, 'Point B', 'Point D', 12),\n",
        "        (6, 'Point C', 'Point D', 6),\n",
        "        (7, 'Point C', 'Point E', 9),\n",
        "        (8, 'Point D', 'Point E', 11)\n",
        "    ]\n",
        "\n",
        "    # Create the delivery graph\n",
        "    delivery_graph = create_delivery_graph(delivery_data)\n",
        "\n",
        "    # Find the shortest distance using A* heuristic search\n",
        "    start_point = 'Warehouse'\n",
        "    end_point = 'Point E'\n",
        "    shortest_path, shortest_distance = search(delivery_graph, start_point, end_point)\n",
        "\n",
        "    if shortest_path:\n",
        "        print(f\"Shortest path from {start_point} to {end_point}: {' -> '.join(shortest_path)}\")\n",
        "        print(f\"Shortest distance: {shortest_distance} miles\")\n",
        "\n",
        "        # Visualize the graph with labels only on the edges of the shortest path\n",
        "        visualize_graph(delivery_graph, shortest_path)\n",
        "    else:\n",
        "        print(f\"No path found from {start_point} to {end_point}\")\n"
      ]
    },
    {
      "cell_type": "code",
      "source": [],
      "metadata": {
        "id": "pPBOzysTObYU"
      },
      "execution_count": null,
      "outputs": []
    }
  ]
}