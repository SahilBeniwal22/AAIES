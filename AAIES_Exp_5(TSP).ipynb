{
  "nbformat": 4,
  "nbformat_minor": 0,
  "metadata": {
    "colab": {
      "provenance": [],
      "authorship_tag": "ABX9TyO+hUO1mj60FjlaBBe469ph",
      "include_colab_link": true
    },
    "kernelspec": {
      "name": "python3",
      "display_name": "Python 3"
    },
    "language_info": {
      "name": "python"
    }
  },
  "cells": [
    {
      "cell_type": "markdown",
      "metadata": {
        "id": "view-in-github",
        "colab_type": "text"
      },
      "source": [
        "<a href=\"https://colab.research.google.com/github/SahilBeniwal22/AAIES/blob/main/AAIES_Exp_5(TSP).ipynb\" target=\"_parent\"><img src=\"https://colab.research.google.com/assets/colab-badge.svg\" alt=\"Open In Colab\"/></a>"
      ]
    },
    {
      "cell_type": "markdown",
      "source": [
        "The Problem Statement:\n",
        "\n",
        "Write a Python program to solve the Travelling Salesman problem using Branch and Bound approach.\n",
        "\n",
        "Imagine a salesman who needs to visit a set of cities and return to his starting point while minimizing the total distance traveled. Let's consider a small set of cities with their pairwise distances:\n",
        "\n",
        "City A to City B: 10 miles\n",
        "\n",
        "City A to City C: 15 miles\n",
        "\n",
        "City A to City D: 20 miles\n",
        "\n",
        "City B to City C: 35 miles\n",
        "\n",
        "City B to City D: 25 miles\n",
        "\n",
        "City C to City D: 30 miles\n",
        "\n",
        "The goal of the TSP is to find the shortest possible route that visits each city exactly once and returns to the starting city.\n",
        "\n",
        "Expectation from the code\n",
        "\n",
        "-> Cost Matrix\n",
        "\n",
        "-> Reduced cost matrix\n",
        "\n",
        "-> All the intermediate matrices (reduced cost) formed during the process to find cost of a path\n",
        "\n",
        "-> And finally the cost\n",
        "\n",
        "Colab paid products - Cancel contracts here"
      ],
      "metadata": {
        "id": "uG0_ek-Iz8hq"
      }
    },
    {
      "cell_type": "code",
      "source": [
        "import numpy as np\n",
        "\n",
        "# Define the cities and their pairwise distances\n",
        "\n",
        "cities = ['A', 'B', 'C', 'D']\n",
        "\n",
        "distances= {\n",
        "('A', 'B'): 10,\n",
        "('A', 'C'): 15,\n",
        "('A', 'D'): 20,\n",
        "('B', 'C'): 35,\n",
        "('B', 'D'): 25,\n",
        "('C', 'D'): 30,\n",
        "}\n",
        "\n",
        "#Function to create a cost matrix from distances\n",
        "\n",
        "def create_cost_matrix(cities, distances):\n",
        "  n = len(cities)\n",
        "  cost_matrix = np.zeros((n, n))\n",
        "\n",
        "  for i in range(n):\n",
        "    for j in range(n):\n",
        "      if i != j:\n",
        "        city1, city2 = cities[i], cities[j]\n",
        "        cost_matrix[i][j] = distances.get((city1,city2), float('inf'))\n",
        "\n",
        "  return cost_matrix\n",
        "\n",
        "# Create the cost matrix\n",
        "\n",
        "cost_matrix = create_cost_matrix(cities, distances)\n",
        "\n",
        "# Print the cost matrix print(\"Cost Matrix:\")\n",
        "\n",
        "print(cost_matrix)"
      ],
      "metadata": {
        "colab": {
          "base_uri": "https://localhost:8080/"
        },
        "id": "cRuU2EBo0idp",
        "outputId": "91ead23d-6273-41f3-b8b8-2894952ed99f"
      },
      "execution_count": null,
      "outputs": [
        {
          "output_type": "stream",
          "name": "stdout",
          "text": [
            "[[ 0. 10. 15. 20.]\n",
            " [inf  0. 35. 25.]\n",
            " [inf inf  0. 30.]\n",
            " [inf inf inf  0.]]\n"
          ]
        }
      ]
    },
    {
      "cell_type": "code",
      "source": [
        "import numpy as np\n",
        "\n",
        "# Define the cities and their pairwise distances\n",
        "\n",
        "cities = ['A', 'B', 'C', 'D']\n",
        "\n",
        "distances= {\n",
        "('A', 'B'): 10,\n",
        "('A', 'C'): 15,\n",
        "('A', 'D'): 20,\n",
        "('B', 'C'): 35,\n",
        "('B', 'D'): 25,\n",
        "('C', 'D'): 30,\n",
        "}\n",
        "\n",
        "def reduce_cost_matrix(cost_matrix):\n",
        "\n",
        "  for i in range(len(cost_matrix)):\n",
        "    min_val = min(cost_matrix[i])\n",
        "    if min_val != float('inf'):\n",
        "      for j in range(len(cost_matrix[i])):\n",
        "        cost_matrix[i][j] -= min_val\n",
        "\n",
        "  for j in range(len(cost_matrix)):\n",
        "    min_val = min(cost_matrix[i][j]for i in range(len(cost_matrix)))\n",
        "    if min_val != float('inf'):\n",
        "      for i in range(len(cost_matrix)):\n",
        "        cost_matrix[i][j] -= min_val\n",
        "\n",
        "  return cost_matrix\n",
        "\n",
        "reduced_cost_matrix = reduce_cost_matrix(cost_matrix)\n",
        "\n",
        "print(reduced_cost_matrix)"
      ],
      "metadata": {
        "colab": {
          "base_uri": "https://localhost:8080/"
        },
        "id": "0aCMLxqh3rq-",
        "outputId": "9ddd57b7-0366-4d63-cf60-d9493f3f91a0"
      },
      "execution_count": null,
      "outputs": [
        {
          "output_type": "stream",
          "name": "stdout",
          "text": [
            "[[ 0. 10. 15. 20.]\n",
            " [inf  0. 35. 25.]\n",
            " [inf inf  0. 30.]\n",
            " [inf inf inf  0.]]\n"
          ]
        }
      ]
    },
    {
      "cell_type": "code",
      "source": [
        "def branch_and_bound(matrix, path, cost, best_cost, best_path):\n",
        "  if len(path) == len(matrix):\n",
        "    cost += matrix[path[-1]][path[0]]\n",
        "    if cost < best_cost[0]:\n",
        "      best_cost[0] = cost\n",
        "      best_path[0] = path[:]\n",
        "  else:\n",
        "    for i in range(len(matrix)):\n",
        "      if i not in path:\n",
        "        new_path = path[:]\n",
        "        new_path.append(i)\n",
        "        new_cost = cost + matrix[path[-1]][i]\n",
        "        if new_cost < best_cost[0]:\n",
        "          reduced_matrix = reduce_matrix(copy.deepcopy(matrix))\n",
        "          for j in range(len(new_path)):\n",
        "            for k in range(len(reduced_matrix)):\n",
        "              reduced_matrix[new_path[j]][k] = float('inf')\n",
        "              reduced_matrix[k][new_path[j]] = float('inf')\n",
        "          branch_and_bound(reduced_matrix, new_path, new_cost, best_cost, best_path)\n",
        "\n",
        "distance_matrix = np.array([\n",
        "[0, 10, 15, 20],\n",
        "[10, 0, 35, 25],\n",
        "[15, 35, 0, 30],\n",
        "[20, 25, 30, 0]\n",
        "])\n",
        "\n",
        "initial_path = [0]\n",
        "initial_cost = 0\n",
        "best_cost = [float(\"inf\")]\n",
        "reduce_matrix = []\n",
        "branch_and_bound (distance_matrix, initial_path, initial_cost, best_cost, best_path)"
      ],
      "metadata": {
        "colab": {
          "base_uri": "https://localhost:8080/",
          "height": 210
        },
        "id": "WHIyYn4V5afk",
        "outputId": "388aac59-19fd-4929-e500-6a5537d10731"
      },
      "execution_count": null,
      "outputs": [
        {
          "output_type": "error",
          "ename": "NameError",
          "evalue": "ignored",
          "traceback": [
            "\u001b[0;31m---------------------------------------------------------------------------\u001b[0m",
            "\u001b[0;31mNameError\u001b[0m                                 Traceback (most recent call last)",
            "\u001b[0;32m<ipython-input-11-4fb133b92005>\u001b[0m in \u001b[0;36m<cell line: 32>\u001b[0;34m()\u001b[0m\n\u001b[1;32m     30\u001b[0m \u001b[0mbest_cost\u001b[0m \u001b[0;34m=\u001b[0m \u001b[0;34m[\u001b[0m\u001b[0mfloat\u001b[0m\u001b[0;34m(\u001b[0m\u001b[0;34m\"inf\"\u001b[0m\u001b[0;34m)\u001b[0m\u001b[0;34m]\u001b[0m\u001b[0;34m\u001b[0m\u001b[0;34m\u001b[0m\u001b[0m\n\u001b[1;32m     31\u001b[0m \u001b[0mreduce_matrix\u001b[0m \u001b[0;34m=\u001b[0m \u001b[0;34m[\u001b[0m\u001b[0;34m]\u001b[0m\u001b[0;34m\u001b[0m\u001b[0;34m\u001b[0m\u001b[0m\n\u001b[0;32m---> 32\u001b[0;31m \u001b[0mbranch_and_bound\u001b[0m \u001b[0;34m(\u001b[0m\u001b[0mdistance_matrix\u001b[0m\u001b[0;34m,\u001b[0m \u001b[0minitial_path\u001b[0m\u001b[0;34m,\u001b[0m \u001b[0minitial_cost\u001b[0m\u001b[0;34m,\u001b[0m \u001b[0mbest_cost\u001b[0m\u001b[0;34m,\u001b[0m \u001b[0mbest_path\u001b[0m\u001b[0;34m)\u001b[0m\u001b[0;34m\u001b[0m\u001b[0;34m\u001b[0m\u001b[0m\n\u001b[0m",
            "\u001b[0;31mNameError\u001b[0m: name 'best_path' is not defined"
          ]
        }
      ]
    },
    {
      "cell_type": "code",
      "source": [],
      "metadata": {
        "id": "Goqm9adE8C6Y"
      },
      "execution_count": null,
      "outputs": []
    }
  ]
}