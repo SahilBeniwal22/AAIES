{
  "nbformat": 4,
  "nbformat_minor": 0,
  "metadata": {
    "colab": {
      "provenance": [],
      "include_colab_link": true
    },
    "kernelspec": {
      "name": "python3",
      "display_name": "Python 3"
    },
    "language_info": {
      "name": "python"
    }
  },
  "cells": [
    {
      "cell_type": "markdown",
      "metadata": {
        "id": "view-in-github",
        "colab_type": "text"
      },
      "source": [
        "<a href=\"https://colab.research.google.com/github/SahilBeniwal22/AAIES/blob/main/AAIES_Exp1(Rule_Based_System).ipynb\" target=\"_parent\"><img src=\"https://colab.research.google.com/assets/colab-badge.svg\" alt=\"Open In Colab\"/></a>"
      ]
    },
    {
      "cell_type": "markdown",
      "source": [
        "<b>The Problem Statement</b>:\n",
        "\n",
        "You are tasked with creating a simple rule-based pet care assistant in Python. The goal is to develop a basic program that provides helpful reminders and suggestions for taking care of different types of pets, such as dogs, cats, and birds, based on predefined rules.\n",
        "\n",
        "<b>Some Rules to get you started</b>:\n",
        "\n",
        "*Example of a rule for dogs:* If the dog is a puppy (i.e. less than 2 years old) frequent training may be needed.\n",
        "\n",
        "*Example of a rule for cats:* If the cat's health is poor one may needed onitor their cat closely and consult a vet for any health issues."
      ],
      "metadata": {
        "id": "5r2msEl9py3R"
      }
    },
    {
      "cell_type": "markdown",
      "source": [
        "## The Code"
      ],
      "metadata": {
        "id": "hi0nFuvoppT9"
      }
    },
    {
      "cell_type": "markdown",
      "source": [
        "### Function to get the user's pet choice"
      ],
      "metadata": {
        "id": "WZrvsX8_ri3a"
      }
    },
    {
      "cell_type": "code",
      "source": [
        "# Function to get the user's pet choice\n",
        "def get_pet_choice():\n",
        "    \"\"\"\n",
        "    TODO: Implement this function to display the pet options and return the user's choice.\n",
        "    The function should prompt the user to select the type of pet (e.g., dog, cat, bird) and\n",
        "    return the corresponding number representing the pet type.\n",
        "    \"\"\"\n",
        "    pet_choice=int(input(\"Enter your pet choice \\n 1 for dog \\n 2 for cat \\n 3 for bird \\n : \"))\n",
        "    if pet_choice==1:\n",
        "      pet_choice=\"Dog\"\n",
        "      return \"Dog\"\n",
        "    elif pet_choice==2:\n",
        "      pet_choice=\"Cat\"\n",
        "      return \"Cat\"\n",
        "    elif pet_choice==3:\n",
        "      pet_choice=\"Bird\"\n",
        "      return \"Bird\"\n",
        "    else:\n",
        "      print(\"Enter a valid choice\")"
      ],
      "metadata": {
        "id": "eZOS63c-rij3"
      },
      "execution_count": null,
      "outputs": []
    },
    {
      "cell_type": "markdown",
      "source": [
        "### Function to get pet's age and health as input from user"
      ],
      "metadata": {
        "id": "ih-mnNqnvI6N"
      }
    },
    {
      "cell_type": "code",
      "source": [
        "\n",
        "# Function to get the pet's age from the user\n",
        "def get_pet_age():\n",
        "    \"\"\"\n",
        "    TODO: Implement this function to get the pet's age from the user.\n",
        "    The function should prompt the user to enter the pet's age in years and\n",
        "    return the entered value as an integer.\n",
        "    \"\"\"\n",
        "    pet_age=float(input(\"Enter the age of the pet in years: - \"))\n",
        "    return pet_age"
      ],
      "metadata": {
        "id": "bOmAKcsmvGkM"
      },
      "execution_count": null,
      "outputs": []
    },
    {
      "cell_type": "code",
      "source": [
        "# Function to get the pet's health status from the user\n",
        "def get_pet_health():\n",
        "    \"\"\"\n",
        "    TODO: Implement this function to get the pet's health status from the user.\n",
        "    The function should prompt the user to select the health status (e.g., good, fair, poor) and\n",
        "    return the corresponding number representing the health status.\n",
        "    \"\"\"\n",
        "    pet_health=int(input(\"Select the health status of your pet \\n 1 for good \\n 2 for fair \\n 3 for poor \\n : \"))\n",
        "    if pet_health==1:\n",
        "      return \"good\"\n",
        "      # pet_health=\"good\"\n",
        "      # return \"Your Pet is in good condition\"\n",
        "    elif pet_health==2:\n",
        "      return \"fair\"\n",
        "      # pet_health=\"fair\"\n",
        "      # return \"Your Pet is in fair condition\"\n",
        "    elif pet_health==3:\n",
        "      # pet_health=\"poor\"\n",
        "      # return \"Your Pet is in poor condition\"\n",
        "      return \"poor\"\n",
        "    else:\n",
        "      print(\"Wrong input\")\n"
      ],
      "metadata": {
        "id": "31-njL3fvIEn"
      },
      "execution_count": null,
      "outputs": []
    },
    {
      "cell_type": "markdown",
      "source": [
        "### Function for rules for providing pet care tips"
      ],
      "metadata": {
        "id": "10mIZiAxrIWD"
      }
    },
    {
      "cell_type": "code",
      "execution_count": null,
      "metadata": {
        "id": "EIpHv9ckpYzh"
      },
      "outputs": [],
      "source": [
        "# Function to provide pet care tips based on the user's choice, age, and health\n",
        "def provide_pet_care_tips(pet_choice, pet_age, pet_health):\n",
        "    \"\"\"\n",
        "    TODO: Implement this function to provide pet care tips based on the user's choices.\n",
        "    The function should take the pet_choice (representing the type of pet), pet_age (in years),\n",
        "    and pet_health (representing the health status) as inputs and print relevant care tips based on those.\n",
        "    \"\"\"\n",
        "    if((pet_choice==\"Dog\" or pet_choice==\"Cat\" or pet_choice==\"Bird\")  and pet_health==\"poor\"):\n",
        "      print(f\"You should take your {pet_choice} to the doctor\")\n",
        "    elif((pet_choice==\"Dog\" or pet_choice==\"Cat\" or pet_choice==\"Bird\")  and pet_health==\"good\"):\n",
        "      print(f\"Your {pet_choice} is in Good condition keep it up !!\")\n",
        "    elif((pet_choice==\"Dog\" or pet_choice==\"Cat\" or pet_choice==\"Bird\")  and pet_health==\"fair\"):\n",
        "      print(f\"I suggest you to care more of you {pet_choice} to make it's health Better.\")\n",
        "    else:\n",
        "      print(\"Wrong input\")\n"
      ]
    },
    {
      "cell_type": "markdown",
      "source": [
        "### Main function to run the pet care assistant"
      ],
      "metadata": {
        "id": "GIJtbG2UrtJM"
      }
    },
    {
      "cell_type": "code",
      "source": [
        "# Main function to run the pet care assistant\n",
        "def pet_care_assistant():\n",
        "    \"\"\"\n",
        "    TODO: Implement this function as the entry point to the pet care assistant program.\n",
        "    The function should call the get_pet_choice(), get_pet_age(), and get_pet_health() functions\n",
        "    to collect the necessary information from the user. Then, it should call the provide_pet_care_tips()\n",
        "    function to provide personalized care tips based on the user's inputs.\n",
        "    \"\"\"\n",
        "    choice=get_pet_choice()\n",
        "    age=get_pet_age()\n",
        "    health=get_pet_health()\n",
        "    provide_pet_care_tips(choice,age,health)"
      ],
      "metadata": {
        "id": "Sfqbwb0du179"
      },
      "execution_count": null,
      "outputs": []
    },
    {
      "cell_type": "code",
      "source": [
        "4# Run the program\n",
        "if __name__ == \"__main__\":\n",
        "    pet_care_assistant()  # Start the pet care assistant"
      ],
      "metadata": {
        "id": "Bm-vnwCvrxy4",
        "colab": {
          "base_uri": "https://localhost:8080/"
        },
        "outputId": "e952ccfd-4ada-4fc3-8182-061aa55fd00e"
      },
      "execution_count": null,
      "outputs": [
        {
          "output_type": "stream",
          "name": "stdout",
          "text": [
            "Enter your pet choice \n",
            " 1 for dog \n",
            " 2 for cat \n",
            " 3 for bird \n",
            " : 1\n",
            "Enter the age of the pet in years: - 3\n",
            "Select the health status of your pet \n",
            " 1 for good \n",
            " 2 for fair \n",
            " 3 for poor \n",
            " : 3\n",
            "You should take your Dog to the doctor\n"
          ]
        }
      ]
    }
  ]
}