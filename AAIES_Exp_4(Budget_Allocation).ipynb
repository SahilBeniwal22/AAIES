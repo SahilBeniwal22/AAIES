{
  "nbformat": 4,
  "nbformat_minor": 0,
  "metadata": {
    "colab": {
      "provenance": [],
      "include_colab_link": true
    },
    "kernelspec": {
      "name": "python3",
      "display_name": "Python 3"
    },
    "language_info": {
      "name": "python"
    }
  },
  "cells": [
    {
      "cell_type": "markdown",
      "metadata": {
        "id": "view-in-github",
        "colab_type": "text"
      },
      "source": [
        "<a href=\"https://colab.research.google.com/github/SahilBeniwal22/AAIES/blob/main/AAIES_Exp_4(Budget_Allocation).ipynb\" target=\"_parent\"><img src=\"https://colab.research.google.com/assets/colab-badge.svg\" alt=\"Open In Colab\"/></a>"
      ]
    },
    {
      "cell_type": "markdown",
      "source": [
        "<b>The Problem Statement</b>:\n",
        "\n",
        "Write a Greedy Algorithm Based program for the following problem:\n",
        "A company is planning to launch a new product. They have a limited budget to spend on marketing and advertising. They need to decide how to allocate their budget to maximize the number of people who will be aware of their product.\n",
        "Marketing Channels:\n",
        "\n",
        "\n",
        "Social Media: Cost - 50,  Reach - 1000 people aware of the product.\n",
        "\n",
        "\n",
        "Email Campaign: Cost - $80, Reach - 1500 people aware of the product.</br>\n",
        "\n",
        "\n",
        "Influencer Collaboration: Cost - $120, Reach - 2500 people aware of the product.\n",
        "\n",
        "Budget Constraint: $200\n",
        "\n",
        "Now, the company wants to allocate their budget to these marketing channels in such a way that they maximize the total number of people aware of their product.\n",
        "\n",
        "\n",
        "\n",
        "\n",
        "\n"
      ],
      "metadata": {
        "id": "5r2msEl9py3R"
      }
    },
    {
      "cell_type": "markdown",
      "source": [
        "## The Code"
      ],
      "metadata": {
        "id": "hi0nFuvoppT9"
      }
    },
    {
      "cell_type": "markdown",
      "source": [
        "### Imports"
      ],
      "metadata": {
        "id": "q1ABUPU7L6em"
      }
    },
    {
      "cell_type": "code",
      "source": [
        "import heapq"
      ],
      "metadata": {
        "id": "i3TtxZ2SL6en"
      },
      "execution_count": null,
      "outputs": []
    },
    {
      "cell_type": "markdown",
      "source": [
        "### Definition of Heuristic Functions"
      ],
      "metadata": {
        "id": "hnp5US3YLdEb"
      }
    },
    {
      "cell_type": "code",
      "source": [
        "# Define heuristic functions\n",
        "def reach_to_cost_ratio_heuristic(channel):\n",
        "  return channel[0] / channel[1]\n",
        "    # return reach / cost\n",
        "\n",
        "def reach_heuristic(channel):\n",
        "  return channel[0]\n",
        "    # return reach"
      ],
      "metadata": {
        "id": "2XryJbWuLdEc"
      },
      "execution_count": null,
      "outputs": []
    },
    {
      "cell_type": "markdown",
      "source": [
        "### Priority Queue Creation"
      ],
      "metadata": {
        "id": "EULYS1zCLF6l"
      }
    },
    {
      "cell_type": "code",
      "source": [
        "def create_priority_queue(channels, heuristic_function):\n",
        "  return sorted(channels, key=heuristic_function, reverse=True)\n",
        "\n",
        "  \"\"\"\n",
        "    Create a priority queue based on a specified heuristic function.\n",
        "\n",
        "    Args:\n",
        "        channels (list): List of marketing channels as tuples (reach, cost, channel_name).\n",
        "        heuristic_function (function): A function to calculate the priority score for a channel.\n",
        "\n",
        "    Returns:\n",
        "        list: A priority queue of channels.\n",
        "    \"\"\""
      ],
      "metadata": {
        "id": "dnAv1jaZLF6l"
      },
      "execution_count": null,
      "outputs": []
    },
    {
      "cell_type": "markdown",
      "source": [
        "### Define the Greedy algorithm"
      ],
      "metadata": {
        "id": "WZrvsX8_ri3a"
      }
    },
    {
      "cell_type": "code",
      "source": [
        "def greedy_allocation(priority_queue, budget):\n",
        "  allocated_budget = 0\n",
        "  people_reached = 0\n",
        "  for channel in priority_queue:\n",
        "      if allocated_budget + channel[1] <= budget:\n",
        "          allocated_budget += channel[1]\n",
        "          people_reached += channel[0]\n",
        "      else:\n",
        "          break\n",
        "  return allocated_budget, people_reached\n",
        "  \"\"\"\n",
        "    Allocate budget greedily based on the priority queue.\n",
        "\n",
        "    Args:\n",
        "        priority_queue (list): A priority queue of channels.\n",
        "        budget (int): The budget constraint.\n",
        "\n",
        "    Returns:\n",
        "        list: A list of allocated channels.\n",
        "    \"\"\""
      ],
      "metadata": {
        "id": "Lk7ipyj16Jx8"
      },
      "execution_count": null,
      "outputs": []
    },
    {
      "cell_type": "markdown",
      "source": [
        "### Mai function to solve the problem"
      ],
      "metadata": {
        "id": "TYRZ-f3G6Tpj"
      }
    },
    {
      "cell_type": "code",
      "source": [
        "# Define the marketing channels as tuples (reach, cost, channel_name)\n",
        "social_media = (1000, 50, \"Social Media\")\n",
        "email_campaign = (1500, 80, \"Email Campaign\")\n",
        "influencer_collaboration = (2500, 120, \"Influencer Collaboration\")\n",
        "\n",
        "# Create a list of marketing channels\n",
        "marketing_channels = [social_media, email_campaign, influencer_collaboration]\n",
        "\n",
        "# Budget constraint\n",
        "budget_constraint = 200\n"
      ],
      "metadata": {
        "id": "VFUkDQUY6WiX"
      },
      "execution_count": null,
      "outputs": []
    },
    {
      "cell_type": "code",
      "source": [
        "def main():\n",
        "\n",
        "  ratio_priority_queue = create_priority_queue(marketing_channels, reach_to_cost_ratio_heuristic)\n",
        "  reach_priority_queue = create_priority_queue(marketing_channels, reach_heuristic)\n",
        "\n",
        "  # Allocate the budget greedily using both priority queues\n",
        "  ratio_budget, ratio_reach = greedy_allocation(ratio_priority_queue, budget_constraint)\n",
        "  reach_budget, reach_reach = greedy_allocation(reach_priority_queue, budget_constraint)\n",
        "\n",
        "  # Output the result\n",
        "  if ratio_reach > reach_reach:\n",
        "        print(f\"Allocated budget: ${ratio_budget}\")\n",
        "        print(f\"People reached: {ratio_reach}\")\n",
        "        print(\"Using reach-to-cost ratio heuristic\")\n",
        "  else:\n",
        "      print(f\"Allocated budget: ${reach_budget}\")\n",
        "      print(f\"People reached: {reach_reach}\")\n",
        "      print(\"Using reach heuristic\")\n",
        "  \"\"\"\n",
        "  Driver function for the marketing budget problem.\n",
        "  # \"\"\"\n",
        "main()"
      ],
      "metadata": {
        "colab": {
          "base_uri": "https://localhost:8080/"
        },
        "id": "4vvSmlw7N4TC",
        "outputId": "e4e11600-8a18-4f0a-84bf-ca1f93af3d61"
      },
      "execution_count": null,
      "outputs": [
        {
          "output_type": "stream",
          "name": "stdout",
          "text": [
            "Allocated budget: $200\n",
            "People reached: 4000\n",
            "Using reach heuristic\n"
          ]
        }
      ]
    },
    {
      "cell_type": "code",
      "source": [],
      "metadata": {
        "id": "_UseufGkSVee"
      },
      "execution_count": null,
      "outputs": []
    }
  ]
}